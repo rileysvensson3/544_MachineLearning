{
 "cells": [
  {
   "cell_type": "raw",
   "metadata": {},
   "source": [
    "---\n",
    "self-contained: true\n",
    "title: \"PA 6.2 - Multiple Regression & Model Validation\"\n",
    "author: \"Riley Svensson\"\n",
    "format:\n",
    "    html:\n",
    "        theme: journal\n",
    "---"
   ]
  },
  {
   "cell_type": "markdown",
   "metadata": {
    "id": "FdLoheP-mrxn"
   },
   "source": [
    "# Palmer Penguins Modeling\n",
    "\n",
    "Import the Palmer Penguins dataset and print out the first few rows.\n",
    "\n",
    "Suppose we want to predict `bill_depth_mm` using the other variables in the dataset.\n",
    "\n",
    "**Dummify** all variables that require this."
   ]
  },
  {
   "cell_type": "code",
   "execution_count": 7,
   "metadata": {
    "id": "N5lG475yllju"
   },
   "outputs": [],
   "source": [
    "# Code Here\n",
    "import pandas as pd\n",
    "from sklearn.pipeline import Pipeline\n",
    "from sklearn.linear_model import LinearRegression\n",
    "from sklearn.metrics import *\n",
    "from palmerpenguins import load_penguins\n",
    "from plotnine import *\n",
    "from sklearn.model_selection import train_test_split\n",
    "\n",
    "\n",
    "penguins = load_penguins()\n",
    "penguins_clean = penguins.dropna()"
   ]
  },
  {
   "cell_type": "code",
   "execution_count": 4,
   "metadata": {},
   "outputs": [
    {
     "data": {
      "text/html": [
       "<div>\n",
       "<style scoped>\n",
       "    .dataframe tbody tr th:only-of-type {\n",
       "        vertical-align: middle;\n",
       "    }\n",
       "\n",
       "    .dataframe tbody tr th {\n",
       "        vertical-align: top;\n",
       "    }\n",
       "\n",
       "    .dataframe thead th {\n",
       "        text-align: right;\n",
       "    }\n",
       "</style>\n",
       "<table border=\"1\" class=\"dataframe\">\n",
       "  <thead>\n",
       "    <tr style=\"text-align: right;\">\n",
       "      <th></th>\n",
       "      <th>bill_length_mm</th>\n",
       "      <th>bill_depth_mm</th>\n",
       "      <th>flipper_length_mm</th>\n",
       "      <th>body_mass_g</th>\n",
       "      <th>year</th>\n",
       "      <th>species_Adelie</th>\n",
       "      <th>species_Chinstrap</th>\n",
       "      <th>species_Gentoo</th>\n",
       "      <th>island_Biscoe</th>\n",
       "      <th>island_Dream</th>\n",
       "      <th>island_Torgersen</th>\n",
       "      <th>sex_female</th>\n",
       "      <th>sex_male</th>\n",
       "    </tr>\n",
       "  </thead>\n",
       "  <tbody>\n",
       "    <tr>\n",
       "      <th>0</th>\n",
       "      <td>39.1</td>\n",
       "      <td>18.7</td>\n",
       "      <td>181.0</td>\n",
       "      <td>3750.0</td>\n",
       "      <td>2007</td>\n",
       "      <td>1</td>\n",
       "      <td>0</td>\n",
       "      <td>0</td>\n",
       "      <td>0</td>\n",
       "      <td>0</td>\n",
       "      <td>1</td>\n",
       "      <td>0</td>\n",
       "      <td>1</td>\n",
       "    </tr>\n",
       "    <tr>\n",
       "      <th>1</th>\n",
       "      <td>39.5</td>\n",
       "      <td>17.4</td>\n",
       "      <td>186.0</td>\n",
       "      <td>3800.0</td>\n",
       "      <td>2007</td>\n",
       "      <td>1</td>\n",
       "      <td>0</td>\n",
       "      <td>0</td>\n",
       "      <td>0</td>\n",
       "      <td>0</td>\n",
       "      <td>1</td>\n",
       "      <td>1</td>\n",
       "      <td>0</td>\n",
       "    </tr>\n",
       "    <tr>\n",
       "      <th>2</th>\n",
       "      <td>40.3</td>\n",
       "      <td>18.0</td>\n",
       "      <td>195.0</td>\n",
       "      <td>3250.0</td>\n",
       "      <td>2007</td>\n",
       "      <td>1</td>\n",
       "      <td>0</td>\n",
       "      <td>0</td>\n",
       "      <td>0</td>\n",
       "      <td>0</td>\n",
       "      <td>1</td>\n",
       "      <td>1</td>\n",
       "      <td>0</td>\n",
       "    </tr>\n",
       "    <tr>\n",
       "      <th>4</th>\n",
       "      <td>36.7</td>\n",
       "      <td>19.3</td>\n",
       "      <td>193.0</td>\n",
       "      <td>3450.0</td>\n",
       "      <td>2007</td>\n",
       "      <td>1</td>\n",
       "      <td>0</td>\n",
       "      <td>0</td>\n",
       "      <td>0</td>\n",
       "      <td>0</td>\n",
       "      <td>1</td>\n",
       "      <td>1</td>\n",
       "      <td>0</td>\n",
       "    </tr>\n",
       "    <tr>\n",
       "      <th>5</th>\n",
       "      <td>39.3</td>\n",
       "      <td>20.6</td>\n",
       "      <td>190.0</td>\n",
       "      <td>3650.0</td>\n",
       "      <td>2007</td>\n",
       "      <td>1</td>\n",
       "      <td>0</td>\n",
       "      <td>0</td>\n",
       "      <td>0</td>\n",
       "      <td>0</td>\n",
       "      <td>1</td>\n",
       "      <td>0</td>\n",
       "      <td>1</td>\n",
       "    </tr>\n",
       "  </tbody>\n",
       "</table>\n",
       "</div>"
      ],
      "text/plain": [
       "   bill_length_mm  bill_depth_mm  flipper_length_mm  body_mass_g  year  \\\n",
       "0            39.1           18.7              181.0       3750.0  2007   \n",
       "1            39.5           17.4              186.0       3800.0  2007   \n",
       "2            40.3           18.0              195.0       3250.0  2007   \n",
       "4            36.7           19.3              193.0       3450.0  2007   \n",
       "5            39.3           20.6              190.0       3650.0  2007   \n",
       "\n",
       "   species_Adelie  species_Chinstrap  species_Gentoo  island_Biscoe  \\\n",
       "0               1                  0               0              0   \n",
       "1               1                  0               0              0   \n",
       "2               1                  0               0              0   \n",
       "4               1                  0               0              0   \n",
       "5               1                  0               0              0   \n",
       "\n",
       "   island_Dream  island_Torgersen  sex_female  sex_male  \n",
       "0             0                 1           0         1  \n",
       "1             0                 1           1         0  \n",
       "2             0                 1           1         0  \n",
       "4             0                 1           1         0  \n",
       "5             0                 1           0         1  "
      ]
     },
     "execution_count": 4,
     "metadata": {},
     "output_type": "execute_result"
    }
   ],
   "source": [
    "penguins_dummified = pd.get_dummies(penguins_clean, columns=['species', 'island', 'sex'])\n",
    "penguins_dummified.head(5)"
   ]
  },
  {
   "cell_type": "markdown",
   "metadata": {
    "id": "TT1MVgaKm_gX"
   },
   "source": [
    "Let's use the other variables to predict `bill_depth_mm`. Prepare your data and fit the following models on a training dataset subset of the entire dataset:\n",
    "\n",
    "* Four different models, each containing a different set of predictor variables\n",
    "\n",
    "Create a plot like the right plot of Fig 1. in our `Model Validation` chapter with the training and test error plotted for each of your four models.\n",
    "\n",
    "Which of your models was best?"
   ]
  },
  {
   "cell_type": "code",
   "execution_count": 13,
   "metadata": {
    "id": "M6f7JWZTm6tn"
   },
   "outputs": [],
   "source": [
    "# Code Here: Create 4 Models\n",
    "\n",
    "#Model 1: X's: All predictors included (9)\n",
    "y = penguins_dummified['bill_depth_mm']\n",
    "X_1 = penguins_dummified[['bill_length_mm', 'flipper_length_mm', 'body_mass_g', 'species_Chinstrap',\n",
    "                   'species_Gentoo', 'island_Biscoe', 'island_Dream', 'sex_male', 'year']]\n",
    "\n",
    "lr_1 = LinearRegression()\n",
    "\n",
    "X1_train, X1_test, y1_train, y1_test = train_test_split(X_1, y, test_size=0.25, random_state = 1)\n",
    "lr_1.fit(X1_train, y1_train)\n",
    "\n",
    "y_pred_lr_1_train = lr_1.predict(X1_train)\n",
    "y_pred_lr_1_test = lr_1.predict(X1_test)\n",
    "\n",
    "\n",
    "#Model 2: X's: Continuous Numerical predictors only (3)\n",
    "y = penguins_dummified['bill_depth_mm']\n",
    "X_2 = penguins_dummified[['bill_length_mm', 'flipper_length_mm', 'body_mass_g']] \n",
    "\n",
    "lr_2 = LinearRegression()\n",
    "\n",
    "X2_train, X2_test, y2_train, y2_test = train_test_split(X_2, y, test_size=0.25, random_state = 1)\n",
    "lr_2.fit(X2_train, y2_train)\n",
    "\n",
    "y_pred_lr_2_train = lr_2.predict(X2_train)\n",
    "y_pred_lr_2_test = lr_2.predict(X2_test)\n",
    "\n",
    "\n",
    "#Model 3: X's: Categorical predictors only: Island, Species, Sex (3 reference categories) (5)\n",
    "y = penguins_dummified['bill_depth_mm']\n",
    "X_3 = penguins_dummified[['species_Chinstrap', 'species_Gentoo', 'island_Biscoe','island_Dream','sex_male']]\n",
    "\n",
    "lr_3 = LinearRegression()\n",
    "\n",
    "X3_train, X3_test, y3_train, y3_test = train_test_split(X_3, y, test_size=0.25, random_state = 1)\n",
    "lr_3.fit(X3_train, y3_train)\n",
    "\n",
    "y_pred_lr_3_train = lr_3.predict(X3_train)\n",
    "y_pred_lr_3_test = lr_3.predict(X3_test)\n",
    "\n",
    "\n",
    "#Model 4: X's: numerical predictors & gender (4)\n",
    "y = penguins_dummified['bill_depth_mm']\n",
    "X_4 = penguins_dummified[['bill_length_mm', 'flipper_length_mm', 'body_mass_g','sex_male']]\n",
    "\n",
    "lr_4 = LinearRegression()\n",
    "\n",
    "X4_train, X4_test, y4_train, y4_test = train_test_split(X_4, y, test_size=0.25, random_state = 1)\n",
    "lr_4.fit(X4_train, y4_train)\n",
    "\n",
    "y_pred_lr_4_train = lr_4.predict(X4_train)\n",
    "y_pred_lr_4_test = lr_4.predict(X4_test)\n"
   ]
  },
  {
   "cell_type": "code",
   "execution_count": 15,
   "metadata": {},
   "outputs": [],
   "source": [
    "# MSE for each\n",
    "\n",
    "mse_train_1 = ('Model 1 Training Error - ', mean_squared_error(y1_train, y_pred_lr_1_train))\n",
    "mse_test_1  = ('Model 1 Test Error     - ', mean_squared_error(y1_test, y_pred_lr_1_test))\n",
    "\n",
    "mse_train_2 = ('Model 2 Training Error - ', mean_squared_error(y2_train, y_pred_lr_2_train))\n",
    "mse_test_2 = ('Model 2 Test Error     - ', mean_squared_error(y2_test, y_pred_lr_2_test))\n",
    "\n",
    "mse_train_3 = ('Model 3 Training Error - ', mean_squared_error(y3_train, y_pred_lr_3_train))\n",
    "mse_test_3  = ('Model 3 Test Error     - ', mean_squared_error(y3_test, y_pred_lr_3_test))\n",
    "\n",
    "mse_train_4 = ('Model 4 Training Error - ', mean_squared_error(y4_train, y_pred_lr_4_train))\n",
    "mse_test_4 = ('Model 4 Test Error     - ', mean_squared_error(y4_test, y_pred_lr_4_test))\n",
    "\n"
   ]
  },
  {
   "cell_type": "markdown",
   "metadata": {},
   "source": [
    "##### Resources:\n",
    "\n",
    "- [matplotlib plotting circle's connected with line](https://www.mathworks.com/matlabcentral/answers/141965-how-do-i-connect-points-in-a-scatter-plot-with-a-line)"
   ]
  },
  {
   "cell_type": "code",
   "execution_count": 26,
   "metadata": {},
   "outputs": [
    {
     "data": {
      "image/png": "[encoded data removed]",
      "text/plain": [
       "<Figure size 1000x600 with 1 Axes>"
      ]
     },
     "metadata": {},
     "output_type": "display_data"
    }
   ],
   "source": [
    "# Create Flexibility/Complexity (Number of Predictors) vs MSE Graph\n",
    "\n",
    "# Define the model order based on predictor variables and corresponding MSE values for training and test sets in the order requested\n",
    "model_order = ['Model 2', 'Model 4', 'Model 3', 'Model 1']\n",
    "\n",
    "# Extracting the MSE values from the tuples to be graphed\n",
    "mse_trains = [mse_train_1[1], mse_train_2[1], mse_train_3[1], mse_train_4[1]]\n",
    "mse_tests = [mse_test_1[1], mse_test_2[1], mse_test_3[1], mse_test_4[1]]\n",
    "\n",
    "\n",
    "# Reorder the MSE values according to match model_order (2, 4, 3, 1)\n",
    "mse_train_ordered = [mse_trains [i] for i in [1, 3, 2, 0]]  \n",
    "mse_test_ordered = [mse_tests[i] for i in [1, 3, 2, 0]]  \n",
    "\n",
    "# Create plot with \n",
    "plt.figure(figsize=(10, 6))\n",
    "plt.plot(model_order, mse_train_ordered,'o-' , color='gray', label='Training Error')\n",
    "plt.plot(model_order, mse_test_ordered, 'o-', color='red', label='Test Error')\n",
    "plt.title('Model Complexity vs Mean Squared Error')\n",
    "plt.xlabel('(Ordered by Number of Predictor Variables)')\n",
    "plt.ylabel('Mean Squared Error (MSE)')\n",
    "plt.legend()\n",
    "plt.grid(True)\n",
    "plt.show()\n"
   ]
  },
  {
   "cell_type": "markdown",
   "metadata": {},
   "source": [
    "### Results\n"
   ]
  },
  {
   "cell_type": "markdown",
   "metadata": {},
   "source": [
    "Based on our graph of training and testing errors for each of the 4 Model's, we can see that Model 3 is likely the best model.  Model 2 only contained the lest amount of predictor variables in 3, causing it to perfrom poorly on the test data, and is likely underfitting our data. Model 4 included 4 variables, which showed to reduce the test error but still result in a worse performance than in training. Model 3 was trained with 5 explantory variables in which I selected only the categorical predictors.  This model showed a seemingly equal MSE or error for training and test data, which is a sign that our model can be effective on unseen data, while only including the neccessary variables without overfitting. One may think that Model 1 is the best based on the graph, however Model 1 included 9 predictor variables, which is likely the cause of it performing better on the test data than training data.  This is a clear sign of overfitting as our training error surpasses the test error when predicting with every variable in the set.\n",
    "\n",
    "**With that said, Model 3 is the optimal model as it does not show signs of over of under fitting and performs equally well on our test data as the data it was trained on.**"
   ]
  },
  {
   "cell_type": "code",
   "execution_count": null,
   "metadata": {},
   "outputs": [],
   "source": []
  }
 ],
 "metadata": {
  "colab": {
   "provenance": []
  },
  "kernelspec": {
   "display_name": "Python 3 (ipykernel)",
   "language": "python",
   "name": "python3"
  },
  "language_info": {
   "codemirror_mode": {
    "name": "ipython",
    "version": 3
   },
   "file_extension": ".py",
   "mimetype": "text/x-python",
   "name": "python",
   "nbconvert_exporter": "python",
   "pygments_lexer": "ipython3",
   "version": "3.11.4"
  }
 },
 "nbformat": 4,
 "nbformat_minor": 1
}
