{
 "cells": [
  {
   "cell_type": "raw",
   "metadata": {},
   "source": [
    "---\n",
    "self-contained: true\n",
    "title: \"PA.8.2\"\n",
    "author: \"Riley Svensson\"\n",
    "format:\n",
    "    html:\n",
    "        theme: journal\n",
    "---"
   ]
  },
  {
   "cell_type": "markdown",
   "metadata": {
    "id": "TxbDFsJARAMD"
   },
   "source": [
    "# Palmer Penguins Modeling\n",
    "\n",
    "Import the Palmer Penguins dataset and print out the first few rows.\n",
    "\n",
    "Suppose we want to predict `species` using the other variables in the dataset.\n",
    "\n",
    "**Dummify** all variables that require this."
   ]
  },
  {
   "cell_type": "code",
   "execution_count": 57,
   "metadata": {},
   "outputs": [
    {
     "data": {
      "text/html": [
       "<div>\n",
       "<style scoped>\n",
       "    .dataframe tbody tr th:only-of-type {\n",
       "        vertical-align: middle;\n",
       "    }\n",
       "\n",
       "    .dataframe tbody tr th {\n",
       "        vertical-align: top;\n",
       "    }\n",
       "\n",
       "    .dataframe thead th {\n",
       "        text-align: right;\n",
       "    }\n",
       "</style>\n",
       "<table border=\"1\" class=\"dataframe\">\n",
       "  <thead>\n",
       "    <tr style=\"text-align: right;\">\n",
       "      <th></th>\n",
       "      <th>species</th>\n",
       "      <th>island</th>\n",
       "      <th>bill_length_mm</th>\n",
       "      <th>bill_depth_mm</th>\n",
       "      <th>flipper_length_mm</th>\n",
       "      <th>body_mass_g</th>\n",
       "      <th>sex</th>\n",
       "      <th>year</th>\n",
       "    </tr>\n",
       "  </thead>\n",
       "  <tbody>\n",
       "    <tr>\n",
       "      <th>0</th>\n",
       "      <td>Adelie</td>\n",
       "      <td>Torgersen</td>\n",
       "      <td>39.1</td>\n",
       "      <td>18.7</td>\n",
       "      <td>181.0</td>\n",
       "      <td>3750.0</td>\n",
       "      <td>male</td>\n",
       "      <td>2007</td>\n",
       "    </tr>\n",
       "    <tr>\n",
       "      <th>1</th>\n",
       "      <td>Adelie</td>\n",
       "      <td>Torgersen</td>\n",
       "      <td>39.5</td>\n",
       "      <td>17.4</td>\n",
       "      <td>186.0</td>\n",
       "      <td>3800.0</td>\n",
       "      <td>female</td>\n",
       "      <td>2007</td>\n",
       "    </tr>\n",
       "    <tr>\n",
       "      <th>2</th>\n",
       "      <td>Adelie</td>\n",
       "      <td>Torgersen</td>\n",
       "      <td>40.3</td>\n",
       "      <td>18.0</td>\n",
       "      <td>195.0</td>\n",
       "      <td>3250.0</td>\n",
       "      <td>female</td>\n",
       "      <td>2007</td>\n",
       "    </tr>\n",
       "    <tr>\n",
       "      <th>4</th>\n",
       "      <td>Adelie</td>\n",
       "      <td>Torgersen</td>\n",
       "      <td>36.7</td>\n",
       "      <td>19.3</td>\n",
       "      <td>193.0</td>\n",
       "      <td>3450.0</td>\n",
       "      <td>female</td>\n",
       "      <td>2007</td>\n",
       "    </tr>\n",
       "    <tr>\n",
       "      <th>5</th>\n",
       "      <td>Adelie</td>\n",
       "      <td>Torgersen</td>\n",
       "      <td>39.3</td>\n",
       "      <td>20.6</td>\n",
       "      <td>190.0</td>\n",
       "      <td>3650.0</td>\n",
       "      <td>male</td>\n",
       "      <td>2007</td>\n",
       "    </tr>\n",
       "  </tbody>\n",
       "</table>\n",
       "</div>"
      ],
      "text/plain": [
       "  species     island  bill_length_mm  bill_depth_mm  flipper_length_mm  \\\n",
       "0  Adelie  Torgersen            39.1           18.7              181.0   \n",
       "1  Adelie  Torgersen            39.5           17.4              186.0   \n",
       "2  Adelie  Torgersen            40.3           18.0              195.0   \n",
       "4  Adelie  Torgersen            36.7           19.3              193.0   \n",
       "5  Adelie  Torgersen            39.3           20.6              190.0   \n",
       "\n",
       "   body_mass_g     sex  year  \n",
       "0       3750.0    male  2007  \n",
       "1       3800.0  female  2007  \n",
       "2       3250.0  female  2007  \n",
       "4       3450.0  female  2007  \n",
       "5       3650.0    male  2007  "
      ]
     },
     "execution_count": 57,
     "metadata": {},
     "output_type": "execute_result"
    }
   ],
   "source": [
    "# Code Here\n",
    "import pandas as pd\n",
    "import numpy as np\n",
    "from sklearn.pipeline import Pipeline\n",
    "from sklearn.compose import make_column_selector, ColumnTransformer\n",
    "from sklearn.preprocessing import StandardScaler, OneHotEncoder, PolynomialFeatures\n",
    "from sklearn.linear_model import LinearRegression, Ridge, Lasso, ElasticNet \n",
    "from sklearn.model_selection import train_test_split, cross_val_score, GridSearchCV\n",
    "from sklearn.metrics import *\n",
    "from plotnine import *\n",
    "from palmerpenguins import load_penguins\n",
    "import matplotlib.pyplot as plt\n",
    "import warnings \n",
    "from sklearn.preprocessing import label_binarize\n",
    "from sklearn.exceptions import ConvergenceWarning\n",
    "from sklearn.tree import DecisionTreeClassifier\n",
    "from sklearn.neighbors import KNeighborsClassifier\n",
    "\n",
    "penguins = load_penguins()\n",
    "\n",
    "penguins_practice = penguins.copy()\n",
    "penguins_practice = penguins_practice.dropna()\n",
    "penguins_practice.head(5)"
   ]
  },
  {
   "cell_type": "code",
   "execution_count": 46,
   "metadata": {
    "id": "QV2uolyOQ65C"
   },
   "outputs": [],
   "source": [
    "# Dependent variable is entire species columns\n",
    "\n",
    "X = penguins_practice.drop([\"species\"], axis = 1)\n",
    "y = penguins_practice[\"species\"]\n",
    "\n",
    "\n",
    "X_train, X_test, y_train, y_test = train_test_split(X, y)\n",
    "\n",
    "# Dummify everything needed and scale numerical columns\n",
    "ct = ColumnTransformer(\n",
    "  [\n",
    "    (\"dummify\", OneHotEncoder(sparse_output = False, handle_unknown='ignore'),\n",
    "    make_column_selector(dtype_include=object)),\n",
    "    (\"standardize\", StandardScaler(), make_column_selector(dtype_include=np.number))\n",
    "  ],\n",
    "  remainder = \"passthrough\" \n",
    ")\n"
   ]
  },
  {
   "cell_type": "markdown",
   "metadata": {},
   "source": [
    "# KNN"
   ]
  },
  {
   "cell_type": "code",
   "execution_count": 47,
   "metadata": {},
   "outputs": [],
   "source": [
    "# KNN Model 1 \n",
    "\n",
    "knn_pipeline_1 = Pipeline(\n",
    "  [(\"preprocessing\", ct),\n",
    "  (\"knn\", KNeighborsClassifier(n_neighbors= 5))]\n",
    ")\n",
    "\n",
    "knn_fitted_1 = knn_pipeline_1.fit(X_train, y_train)\n",
    "knn_y_preds_1 = knn_fitted_1.predict(X_test)"
   ]
  },
  {
   "cell_type": "code",
   "execution_count": 48,
   "metadata": {},
   "outputs": [],
   "source": [
    "# KNN Model 2\n",
    "\n",
    "knn_pipeline_2 = Pipeline(\n",
    "  [(\"preprocessing\", ct),\n",
    "  (\"knn\", KNeighborsClassifier(n_neighbors = 20))]\n",
    ")\n",
    "\n",
    "knn_fitted_2 = knn_pipeline_2.fit(X_train, y_train)\n",
    "knn_y_preds_2 = knn_fitted_2.predict(X_test)"
   ]
  },
  {
   "cell_type": "code",
   "execution_count": 49,
   "metadata": {},
   "outputs": [
    {
     "name": "stdout",
     "output_type": "stream",
     "text": [
      "KNN Model 1 Confusion Matrix \n",
      " [[41  1  0]\n",
      " [ 1 14  0]\n",
      " [ 0  0 27]]\n",
      "\n",
      "KNN Model 2 Confusion Matrix \n",
      " [[42  0  0]\n",
      " [ 2 13  0]\n",
      " [ 0  0 27]]\n",
      "\n",
      "KNN Model 1 Accuracy Score \n",
      " 0.9761904761904762\n",
      "\n",
      "KNN Model 2 Accuracy Score \n",
      " 0.9761904761904762\n",
      "\n",
      "KNN Model 1 Precision Score \n",
      " [0.97619048 0.93333333 1.        ]\n",
      "\n",
      "KNN Model 2 Precision Score \n",
      " [0.95454545 1.         1.        ]\n",
      "\n",
      "KNN Model 1 Recall Score \n",
      " [0.97619048 0.93333333 1.        ]\n",
      "\n",
      "KNN Model 1 Recall Score \n",
      " [1.         0.86666667 1.        ]\n",
      "\n",
      "Scores Model 1               precision    recall  f1-score   support\n",
      "\n",
      "      Adelie       0.98      0.98      0.98        42\n",
      "   Chinstrap       0.93      0.93      0.93        15\n",
      "      Gentoo       1.00      1.00      1.00        27\n",
      "\n",
      "    accuracy                           0.98        84\n",
      "   macro avg       0.97      0.97      0.97        84\n",
      "weighted avg       0.98      0.98      0.98        84\n",
      "\n",
      "\n",
      "Scores Model 2               precision    recall  f1-score   support\n",
      "\n",
      "      Adelie       0.95      1.00      0.98        42\n",
      "   Chinstrap       1.00      0.87      0.93        15\n",
      "      Gentoo       1.00      1.00      1.00        27\n",
      "\n",
      "    accuracy                           0.98        84\n",
      "   macro avg       0.98      0.96      0.97        84\n",
      "weighted avg       0.98      0.98      0.98        84\n",
      "\n",
      "AUC Model 1 0.998722435834237\n",
      "AUC Model 2 0.9982114101679319\n"
     ]
    }
   ],
   "source": [
    "#Confusion Matrixes  \n",
    "print('KNN Model 1 Confusion Matrix \\n', confusion_matrix(y_test, knn_y_preds_1))\n",
    "print('\\nKNN Model 2 Confusion Matrix \\n', confusion_matrix(y_test, knn_y_preds_2))\n",
    "\n",
    "#Accuracy Scores  \n",
    "print('\\nKNN Model 1 Accuracy Score \\n', accuracy_score(y_test, knn_y_preds_1))\n",
    "print('\\nKNN Model 2 Accuracy Score \\n', accuracy_score(y_test, knn_y_preds_2))\n",
    "\n",
    "#Precision Scores\n",
    "print('\\nKNN Model 1 Precision Score \\n',precision_score(y_test, knn_y_preds_1, average = None))\n",
    "print('\\nKNN Model 2 Precision Score \\n', precision_score(y_test, knn_y_preds_2, average = None))\n",
    "\n",
    "#Recall Scores\n",
    "print('\\nKNN Model 1 Recall Score \\n',recall_score(y_test, knn_y_preds_1, average = None))\n",
    "print('\\nKNN Model 1 Recall Score \\n',recall_score(y_test, knn_y_preds_2, average = None))\n",
    "\n",
    "# General Report: F1-Scores\n",
    "report_knn_1 = classification_report(y_test, knn_y_preds_1)\n",
    "print('\\nScores Model 1', report_knn_1)\n",
    "\n",
    "report_knn_2 = classification_report(y_test, knn_y_preds_2)\n",
    "print('\\nScores Model 2',report_knn_2)\n",
    "\n",
    "# ROC / AUC\n",
    "prob_knn_1 = knn_pipeline_1.predict_proba(X_test)\n",
    "roc_auc_knn_1 = roc_auc_score(y_test, prob_knn_1, multi_class='ovr')\n",
    "print('AUC Model 1', roc_auc_knn_1)\n",
    "\n",
    "prob_knn_2 = knn_pipeline_2.predict_proba(X_test)\n",
    "roc_auc_knn_2 = roc_auc_score(y_test, prob_knn_2, multi_class='ovr')\n",
    "print('AUC Model 2', roc_auc_knn_2)\n"
   ]
  },
  {
   "cell_type": "markdown",
   "metadata": {
    "id": "HecNBVAnRHod"
   },
   "source": [
    "Let's use the other variables to predict `species`. Prepare your data and fit the following models on the entire dataset:\n",
    "\n",
    "* Two kNN models (for different values of K)\n",
    "* Two decision tree models (for different complexities of trees)\n",
    "\n",
    "Compute the following, for each of your models, on test data. Keep in mind that you may need to stratify your creation of the training and test data.\n",
    "\n",
    "* Confusion matrix\n",
    "* Overall Accuracy\n",
    "* Precision, Recall, AUC, and F1-score for each species\n",
    "\n",
    "Create one ROC plot for the species of your choice."
   ]
  },
  {
   "cell_type": "markdown",
   "metadata": {},
   "source": [
    "# Decision Tree's"
   ]
  },
  {
   "cell_type": "code",
   "execution_count": 52,
   "metadata": {
    "id": "U1onRGJQR8T_"
   },
   "outputs": [],
   "source": [
    "# Decision Tree Model 1\n",
    "\n",
    "dt_pipeline_1 = Pipeline(\n",
    "  [(\"preprocessing\", ct),\n",
    "  (\"decision_tree\",  DecisionTreeClassifier(min_samples_leaf = 5))]\n",
    ")\n",
    "\n",
    "dt_fitted_1 = dt_pipeline_1.fit(X_train, y_train)\n",
    "dt_y_preds_1 = dt_fitted_1.predict(X_test)"
   ]
  },
  {
   "cell_type": "code",
   "execution_count": 53,
   "metadata": {},
   "outputs": [],
   "source": [
    "# Decision Tree Model 2\n",
    "\n",
    "dt_pipeline_2 = Pipeline(\n",
    "  [(\"preprocessing\", ct),\n",
    "  (\"decision_tree\",  DecisionTreeClassifier(min_samples_leaf = 10))]\n",
    ")\n",
    "\n",
    "dt_fitted_2 = dt_pipeline_2.fit(X_train, y_train)\n",
    "dt_y_preds_2 = dt_fitted_2.predict(X_test)"
   ]
  },
  {
   "cell_type": "code",
   "execution_count": 54,
   "metadata": {},
   "outputs": [
    {
     "name": "stdout",
     "output_type": "stream",
     "text": [
      "DT Model 1 Confusion Matrix \n",
      " [[41  1  0]\n",
      " [ 3 12  0]\n",
      " [ 0  2 25]]\n",
      "\n",
      "DT Model 2 Confusion Matrix \n",
      " [[41  1  0]\n",
      " [ 3 12  0]\n",
      " [ 0  2 25]]\n",
      "\n",
      "DT Model 1 Accuracy Score \n",
      " 0.9285714285714286\n",
      "\n",
      "DT Model 2 Accuracy Score \n",
      " 0.9285714285714286\n",
      "\n",
      "DT Model 1 Precision Score \n",
      " [0.93181818 0.8        1.        ]\n",
      "\n",
      "DT Model 2 Precision Score \n",
      " [0.93181818 0.8        1.        ]\n",
      "\n",
      "DT Model 1 Recall Score \n",
      " [0.97619048 0.8        0.92592593]\n",
      "\n",
      "DT Model 1 Recall Score \n",
      " [0.97619048 0.8        0.92592593]\n",
      "\n",
      " DT Scores Model 1               precision    recall  f1-score   support\n",
      "\n",
      "      Adelie       0.93      0.98      0.95        42\n",
      "   Chinstrap       0.80      0.80      0.80        15\n",
      "      Gentoo       1.00      0.93      0.96        27\n",
      "\n",
      "    accuracy                           0.93        84\n",
      "   macro avg       0.91      0.90      0.91        84\n",
      "weighted avg       0.93      0.93      0.93        84\n",
      "\n",
      "\n",
      " DT Scores Model 2               precision    recall  f1-score   support\n",
      "\n",
      "      Adelie       0.93      0.98      0.95        42\n",
      "   Chinstrap       0.80      0.80      0.80        15\n",
      "      Gentoo       1.00      0.93      0.96        27\n",
      "\n",
      "    accuracy                           0.93        84\n",
      "   macro avg       0.91      0.90      0.91        84\n",
      "weighted avg       0.93      0.93      0.93        84\n",
      "\n",
      " DT AUC Model 1 0.9587772629180499\n",
      " DT AUC Model 2 0.9620562073460626\n"
     ]
    }
   ],
   "source": [
    "#Confusion Matrixes  \n",
    "print('DT Model 1 Confusion Matrix \\n', confusion_matrix(y_test, dt_y_preds_1))\n",
    "print('\\nDT Model 2 Confusion Matrix \\n', confusion_matrix(y_test, dt_y_preds_2))\n",
    "\n",
    "#Accuracy Scores  \n",
    "print('\\nDT Model 1 Accuracy Score \\n', accuracy_score(y_test, dt_y_preds_1))\n",
    "print('\\nDT Model 2 Accuracy Score \\n', accuracy_score(y_test, dt_y_preds_2))\n",
    "\n",
    "#Precision Scores\n",
    "print('\\nDT Model 1 Precision Score \\n',precision_score(y_test, dt_y_preds_1, average = None))\n",
    "print('\\nDT Model 2 Precision Score \\n', precision_score(y_test, dt_y_preds_2, average = None))\n",
    "\n",
    "#Recall Scores\n",
    "print('\\nDT Model 1 Recall Score \\n',recall_score(y_test, dt_y_preds_1, average = None))\n",
    "print('\\nDT Model 1 Recall Score \\n',recall_score(y_test, dt_y_preds_2, average = None))\n",
    "\n",
    "# General Report: F1-Scores\n",
    "report_dt_1 = classification_report(y_test, dt_y_preds_1)\n",
    "print('\\n DT Scores Model 1', report_dt_1)\n",
    "\n",
    "report_dt_2 = classification_report(y_test, dt_y_preds_2)\n",
    "print('\\n DT Scores Model 2',report_dt_2)\n",
    "\n",
    "# ROC / AUC\n",
    "prob_dt_1 = dt_pipeline_1.predict_proba(X_test)\n",
    "roc_auc_dt_1 = roc_auc_score(y_test, prob_dt_1, multi_class='ovr')\n",
    "print(' DT AUC Model 1', roc_auc_dt_1)\n",
    "\n",
    "prob_dt_2 = dt_pipeline_2.predict_proba(X_test)\n",
    "roc_auc_dt_2 = roc_auc_score(y_test, prob_dt_2, multi_class='ovr')\n",
    "print(' DT AUC Model 2', roc_auc_dt_2)\n"
   ]
  },
  {
   "cell_type": "markdown",
   "metadata": {},
   "source": [
    "# Best Model's ROC Curve"
   ]
  },
  {
   "cell_type": "code",
   "execution_count": 64,
   "metadata": {},
   "outputs": [
    {
     "data": {
      "image/png": "[encoded data removed]",
      "text/plain": [
       "<Figure size 640x480 with 1 Axes>"
      ]
     },
     "metadata": {
      "image/png": {
       "height": 480,
       "width": 640
      },
      "needs_background": "light"
     },
     "output_type": "display_data"
    },
    {
     "data": {
      "text/plain": [
       "<Figure Size: (640 x 480)>"
      ]
     },
     "execution_count": 64,
     "metadata": {},
     "output_type": "execute_result"
    }
   ],
   "source": [
    "# Convert species labels to numerical values for ROC curve\n",
    "y_bin = label_binarize(y_test, classes=knn_fitted_1.classes_)\n",
    "\n",
    "y_probs_1 = knn_fitted_1.predict_proba(X_test)\n",
    "\n",
    "# Calculate the ROC curve for each class\n",
    "fpr, tpr, _= roc_curve(y_bin.ravel(), y_probs_1.ravel())\n",
    "\n",
    "# Create a DataFrame for the ROC curve\n",
    "roc_df = pd.DataFrame({'FPR': fpr, 'TPR': tpr})\n",
    "\n",
    "# Plot the ROC curve using plotnine\n",
    "(\n",
    "    ggplot(roc_df, aes(x='FPR', y='TPR')) +\n",
    "    geom_line(size=1) +\n",
    "    geom_abline(slope=1, intercept=0, linetype='dashed', color='black') +\n",
    "    labs(title='ROC Curve: KNN Model 1', x='False Positive Rate', y='True Positive Rate') +\n",
    "    theme_minimal()\n",
    ")\n"
   ]
  },
  {
   "cell_type": "code",
   "execution_count": null,
   "metadata": {},
   "outputs": [],
   "source": []
  }
 ],
 "metadata": {
  "colab": {
   "provenance": []
  },
  "kernelspec": {
   "display_name": "Python 3 (ipykernel)",
   "language": "python",
   "name": "python3"
  },
  "language_info": {
   "codemirror_mode": {
    "name": "ipython",
    "version": 3
   },
   "file_extension": ".py",
   "mimetype": "text/x-python",
   "name": "python",
   "nbconvert_exporter": "python",
   "pygments_lexer": "ipython3",
   "version": "3.11.4"
  }
 },
 "nbformat": 4,
 "nbformat_minor": 1
}
