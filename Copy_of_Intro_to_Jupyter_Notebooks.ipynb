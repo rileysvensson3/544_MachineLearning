{
 "cells": [
  {
   "cell_type": "raw",
   "id": "7c0dd8d6",
   "metadata": {
    "id": "7c0dd8d6"
   },
   "source": [
    "<h1> Introduction to Jupyter Notebooks </h1>"
   ]
  },
  {
   "cell_type": "markdown",
   "id": "KLiOv05-tcm7",
   "metadata": {
    "id": "KLiOv05-tcm7"
   },
   "source": [
    "This notebook is composed of many *chunks*, containing either python code or formatted text.  In this activity you will practice both.  Make sure to always run each code chunk once as you work past it."
   ]
  },
  {
   "cell_type": "markdown",
   "id": "kZcVtNnqtHRU",
   "metadata": {
    "id": "kZcVtNnqtHRU"
   },
   "source": [
    "*Get in a group of 3-4 people.  You should each fill out your own copy of this notebook.*"
   ]
  },
  {
   "cell_type": "code",
   "execution_count": 1,
   "id": "libraries-py",
   "metadata": {
    "id": "libraries-py"
   },
   "outputs": [],
   "source": [
    "#| label: libraries-py\n",
    "#| include: false\n",
    "import matplotlib.pyplot as plt"
   ]
  },
  {
   "cell_type": "markdown",
   "id": "89613630",
   "metadata": {
    "id": "89613630"
   },
   "source": [
    "1.  Write the names of your group members below, as a bullet point list.\n",
    "\n",
    "\n",
    "*   Riley\n",
    "*   Nick\n",
    "*   Tyler\n",
    "*   Jake\n",
    "\n",
    "\n",
    "2.  Find something that all of you enjoy for fun. Insert a related picture or meme below.\n",
    "\n",
    "\n",
    "\n",
    "3.  Everyone decide your comfort level on a scale of 1-10 in python, and your favorite colors from [this](https://matplotlib.org/stable/gallery/color/named_colors.html) list.\n",
    "\n",
    "Edit the code below so that it has your names and corresponding comfort levels."
   ]
  },
  {
   "cell_type": "markdown",
   "id": "YaXB8taiUpCn",
   "metadata": {
    "id": "YaXB8taiUpCn"
   },
   "source": [
    "![Basketball](https://res.cloudinary.com/zenbusiness/image/upload/v1670445040/logaster/logaster-2020-06-image8.png)"
   ]
  },
  {
   "cell_type": "code",
   "execution_count": 10,
   "id": "group_info-py",
   "metadata": {
    "id": "group_info-py"
   },
   "outputs": [],
   "source": [
    "#| label: group_info-py\n",
    "group_data = {\n",
    "  'names': [\"Nick\", \"Riley\", \"Tyler\", \"Jake\"],\n",
    "  'colors': [\"cyan\", \"gold\", \"red\", \"orange\"],\n",
    "  'comfort': [4, 4, 2, 5]\n",
    "  }"
   ]
  },
  {
   "cell_type": "markdown",
   "id": "f8ac1475",
   "metadata": {
    "id": "f8ac1475"
   },
   "source": [
    "4.  Click \"Run\" on the code chunk below and see the plot that is produced.\n",
    "\n",
    "(Do not edit the code below!)"
   ]
  },
  {
   "cell_type": "code",
   "execution_count": 11,
   "id": "plot-py",
   "metadata": {
    "colab": {
     "base_uri": "https://localhost:8080/",
     "height": 430
    },
    "id": "plot-py",
    "outputId": "da430f19-0f44-4d12-a524-61dc8e2c60e8"
   },
   "outputs": [
    {
     "data": {
      "image/png": "[encoded data removed]",
      "text/plain": [
       "<Figure size 640x480 with 1 Axes>"
      ]
     },
     "metadata": {},
     "output_type": "display_data"
    }
   ],
   "source": [
    "#| label: plot-py\n",
    "#| fig-cap: Our comfort levels with python\n",
    "\n",
    "plt.bar(x = group_data['names'], height = group_data['comfort'], color = group_data['colors'])\n",
    "plt.ylabel(\"Comfort with python\")\n",
    "plt.show()"
   ]
  }
 ],
 "metadata": {
  "colab": {
   "provenance": []
  },
  "kernelspec": {
   "display_name": "Python 3",
   "language": "python",
   "name": "python3"
  },
  "language_info": {
   "codemirror_mode": {
    "name": "ipython",
    "version": 3
   },
   "file_extension": ".py",
   "mimetype": "text/x-python",
   "name": "python",
   "nbconvert_exporter": "python",
   "pygments_lexer": "ipython3",
   "version": "3.8.8"
  }
 },
 "nbformat": 4,
 "nbformat_minor": 5
}
